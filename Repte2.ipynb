{
 "cells": [
  {
   "cell_type": "markdown",
   "id": "c09943b1",
   "metadata": {},
   "source": [
    "# REPTE 2 L'ADREçA ELECTRòNICA\n"
   ]
  },
  {
   "cell_type": "markdown",
   "id": "969f6a6e",
   "metadata": {},
   "source": [
    "<h3> Problema</h3>\n",
    "<p>El nostre amic segueix amb la seva web. Ara vol registrar tots els clients que fan comandes a la pàgina web a través del seu email.<br>Però té un problema. No té manera de saber si l'adreça electrònica té un format correcte, per demostrar que no és falsa.<br>\n",
    "    L'ajudem?</p>\n",
    "<h3>Objectiu</h3>\n",
    "<p>Hem de crear una funció de nom <b>verifyEmail()</b> on rebrà un paràmetre <b>s</b> que seà una cadena, corresponent al correu electrònic.</p>\n",
    "<h3>Normes</h3>\n",
    "<p>Aquesta funció haurà de retornar True si es compleixen les següents normes:</p>\n",
    "<ol><li>L'adreça haurà de contenir el caràcter \"@\" i el punt \".\". A més no podrà contenir cap espai</li>\n",
    "    <li>L'adreça no pot tenir 2 caràcters \"@\" ni 2 caràcters \".\"</li>\n",
    "    <li>El caràcter \".\" ha d'estar després del caràcter \"@\"</li>\n",
    "<li>El nom de l'adreça electrònica ( a l'esquerra del caràcter \"@\") ha de ser de igual o més de 3 caràcters</li>\n",
    "<li>El servidor de l'adreça electrònica ( a la dreta del caràcter \"@\") ha de ser de igual o més de 3 caràcters</li>\n",
    "<li>El domini de l'adreça electrònica ( a la dreta del caràcter \".\") ha de ser de 2 o  3 caràcters</li></ol>\n",
    "<p>Si no es compleixen haurà de retornar False</p>\n",
    "<h3>Premi</h3>\n",
    "<p>Si supereu el test rebreu 500 punts a la plataforma</p>"
   ]
  },
  {
   "cell_type": "code",
   "execution_count": null,
   "id": "63f2b2f3",
   "metadata": {},
   "outputs": [],
   "source": [
    "#Aqui el codi\n"
   ]
  },
  {
   "cell_type": "code",
   "execution_count": null,
   "id": "b86c899a-ef87-47b1-9068-025b1aee1c89",
   "metadata": {
    "scrolled": true,
    "slideshow": {
     "slide_type": "-"
    },
    "tags": [],
    "visible": false
   },
   "outputs": [],
   "source": [
    "import unittest\n",
    "\n",
    "class TestNotebook(unittest.TestCase):\n",
    "    \n",
    "    def test_correcte(self):\n",
    "        self.assertEqual(verifyEmail(\"hello@hello.com\"),True)\n",
    "    def test_arrobaandpoint(self):\n",
    "        self.assertEqual(verifyEmail(\"hello\"),False)\n",
    "    def test_double_point(self):\n",
    "        self.assertEqual(verifyEmail(\"hello.hello.es\"),False)\n",
    "    def test_double_arroba(self):\n",
    "        self.assertEqual(verifyEmail(\"hello@hello@es\"),False)\n",
    "    def test_point_before_arroba(self):\n",
    "        self.assertEqual(verifyEmail(\"hello.hello@es\"),False)\n",
    "    def test_arrobaandpoint2(self):\n",
    "        self.assertEqual(verifyEmail(\"hello@hello\"),False)\n",
    "    def test_lenname(self):\n",
    "        self.assertEqual(verifyEmail(\"he@hello.es\"), False)\n",
    "    def test_lenserver(self):\n",
    "        self.assertEqual(verifyEmail(\"hel@he.es\"), False)\n",
    "    def test_lendomain(self):\n",
    "        self.assertEqual(verifyEmail(\"hel@hello.e\"), False)\n",
    "    def test_lendomain2(self):\n",
    "        self.assertEqual(verifyEmail(\"hel@hello.eseo\"), False)\n",
    "        \n",
    "         \n",
    "       \n",
    "        \n",
    "        \n",
    "        \n",
    "\n",
    "unittest.main(argv=[''], verbosity=2, exit=False)"
   ]
  }
 ],
 "metadata": {
  "kernelspec": {
   "display_name": "Python 3 (ipykernel)",
   "language": "python",
   "name": "python3"
  },
  "language_info": {
   "codemirror_mode": {
    "name": "ipython",
    "version": 3
   },
   "file_extension": ".py",
   "mimetype": "text/x-python",
   "name": "python",
   "nbconvert_exporter": "python",
   "pygments_lexer": "ipython3",
   "version": "3.9.2"
  }
 },
 "nbformat": 4,
 "nbformat_minor": 5
}

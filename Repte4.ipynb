{
 "cells": [
  {
   "cell_type": "code",
   "execution_count": null,
   "metadata": {},
   "outputs": [],
   "source": [
    "# REPTE 3 LA MAQUINA DE CANVI"
   ]
  },
  {
   "cell_type": "markdown",
   "metadata": {},
   "source": [
    "<h3> Problema</h3>\n",
    "<p>El nostre amic vol fer un sistema de canvi en la seva botiga per fer els pagaments.<br>\n",
    "   La màquina haurà de triar el número de bitllets i monedes mínim possible, per tant sempre el de màxim valor.</p>\n",
    "<h3>Objectiu</h3>\n",
    "<p>Hem de crear una funció de nom <b>canvi()</b> on rebrà dos paràmetres: <b>preu</b> que serà el número del preu sense rebaixar, i un altre <b>pagat</b> que serà el nombre del bitllet o moneda pagat pel client.</p>\n",
    "<h3>Normes</h3>\n",
    "<p>Aquesta funció haurà de retornar una llista amb el número de bitllets i monedes per retornar amb aquest ordre:\n",
    "<ol>\n",
    "<li>Bitllets de 200€</li>\n",
    "<li>Bitllets de 100€</li>\n",
    "<li>Bitllets de 50€</li>\n",
    "<li>Bitllets de 20€</li>\n",
    "<li>Bitllets de 10€</li>\n",
    "<li>Bitllets de 5€</li>\n",
    "<li>Monedes de 2€</li>\n",
    "<li>Monedes de 1€</li>\n",
    "<li>Monedes de 50cent</li>\n",
    "<li>Monedes de 20cent</li>\n",
    "<li>Monedes de 10cent</li>\n",
    "<li>Monedes de 5cent</li>\n",
    "<li>Monedes de 2cent</li>\n",
    "<li>Monedes de 1cent</li>\n",
    "</ol>\n",
    "</p>\n",
    "<p>Per exemple: <br> canvi(45.5,50) retornarà: [0,0,0,0,0,0,2,0,1,0,0,0,0,0] </p>\n",
    "<h3>Extra:</h3>\n",
    "<p>Podries fer que amb la llista resultant, ens mostrés per pantalla els bitllets i monedes corresponents que hem de tornar de canvi?</p>\n",
    "<h3>Premi</h3>\n",
    "<p>Si supereu el test rebreu 500 punts a la plataforma + 100 per l'extra</p>"
   ]
  },
  {
   "cell_type": "code",
   "execution_count": 60,
   "metadata": {},
   "outputs": [
    {
     "name": "stdout",
     "output_type": "stream",
     "text": [
      "Bitllets de 500: 0\n",
      "Bitllets de 200: 0\n",
      "Bitllets de 100: 0\n",
      "Bitllets de 50: 0\n",
      "Bitllets de 20: 2\n",
      "Bitllets de 10: 0\n",
      "Bitllets de 5: 0\n",
      "Monedes de 2: 0\n",
      "Monedes de 1: 1\n",
      "Monedes de 50 centims: 0\n",
      "Monedes de 20 centims: 1\n",
      "Monedes de 10 centims: 0\n",
      "Monedes de 5 centims: 1\n",
      "Monedes de 2 centims: 0\n",
      "Monedes de 1 centim: 1\n"
     ]
    }
   ],
   "source": [
    "#El teu codi aqui\n",
    "def canvi(preu,pagat):\n",
    "    b500=0\n",
    "    b200=0\n",
    "    b100=0\n",
    "    b50=0\n",
    "    b20=0\n",
    "    b10=0\n",
    "    b5=0\n",
    "    m200=0\n",
    "    m100=0\n",
    "    m50=0\n",
    "    m20=0\n",
    "    m10=0\n",
    "    m5=0\n",
    "    m2=0\n",
    "    m1=0\n",
    "    preu=int(preu*100)\n",
    "    pagat=int(pagat*100)\n",
    "    canvi=(pagat-preu)\n",
    "    while canvi>=50000:\n",
    "        b500+=1\n",
    "        canvi=canvi-50000 \n",
    "    while canvi>=20000:\n",
    "        b200+=1\n",
    "        canvi=canvi-20000    \n",
    "    while canvi>=10000:\n",
    "        b100+=1\n",
    "        canvi=canvi-10000 \n",
    "    while canvi>=5000:\n",
    "        b50+=1\n",
    "        canvi=canvi-5000\n",
    "    while canvi>=2000:\n",
    "        b20+=1\n",
    "        canvi=canvi-2000\n",
    "    while canvi>=1000:\n",
    "        b10+=1\n",
    "        canvi=canvi-1000\n",
    "    while canvi>=500:\n",
    "        b5+=1\n",
    "        canvi=canvi-500\n",
    "    while canvi>=200:\n",
    "        m200+=1\n",
    "        canvi=canvi-200\n",
    "    while canvi>=100:\n",
    "        m100+=1\n",
    "        canvi=canvi-100\n",
    "    while canvi>=50:\n",
    "        m50+=1\n",
    "        canvi=canvi-50\n",
    "    while canvi>=20:\n",
    "        m20+=1\n",
    "        canvi=canvi-20\n",
    "    while canvi>=10:\n",
    "        m10+=1\n",
    "        canvi=canvi-10\n",
    "    while canvi>=5:\n",
    "        m5+=1\n",
    "        canvi=canvi-5\n",
    "    while canvi>=2:\n",
    "        m2+=1\n",
    "        canvi=canvi-2\n",
    "    while canvi>=1:\n",
    "        m1+=1\n",
    "        canvi=canvi-1\n",
    "    return [b500,b200,b100,b50,b20,b10,b5,m200,m100,m50,m20,m10,m5,m2,m1]  \n",
    "canvi=canvi(58.74,100)\n",
    "print(\"Bitllets de 500:\",canvi[0]) \n",
    "print(\"Bitllets de 200:\",canvi[1])                                                         \n",
    "print(\"Bitllets de 100:\",canvi[2])                                                         \n",
    "print(\"Bitllets de 50:\",canvi[3])                                                         \n",
    "print(\"Bitllets de 20:\",canvi[4]) \n",
    "print(\"Bitllets de 10:\",canvi[5])  \n",
    "print(\"Bitllets de 5:\",canvi[6]) \n",
    "print(\"Monedes de 2:\",canvi[7]) \n",
    "print(\"Monedes de 1:\",canvi[8])                                                           \n",
    "print(\"Monedes de 50 centims:\",canvi[9])                                                           \n",
    "print(\"Monedes de 20 centims:\",canvi[10])                                                           \n",
    "print(\"Monedes de 10 centims:\",canvi[11])\n",
    "print(\"Monedes de 5 centims:\",canvi[12])\n",
    "print(\"Monedes de 2 centims:\",canvi[13])\n",
    "print(\"Monedes de 1 centim:\",canvi[14])\n",
    "\n",
    "                                                           \n",
    "                                                          \n",
    "                                                       \n",
    "                                                        "
   ]
  },
  {
   "cell_type": "code",
   "execution_count": 53,
   "metadata": {},
   "outputs": [
    {
     "name": "stdout",
     "output_type": "stream",
     "text": [
      "5623\n",
      "4377\n"
     ]
    }
   ],
   "source": [
    "preu=56.23\n",
    "preu = int(preu *100)\n",
    "print(preu)\n",
    "pagat=10000\n",
    "canvi=(pagat-preu)\n",
    "print(canvi)"
   ]
  },
  {
   "cell_type": "code",
   "execution_count": 50,
   "metadata": {},
   "outputs": [
    {
     "name": "stderr",
     "output_type": "stream",
     "text": [
      "test_correcte (__main__.TestNotebook) ... ERROR\n",
      "\n",
      "======================================================================\n",
      "ERROR: test_correcte (__main__.TestNotebook)\n",
      "----------------------------------------------------------------------\n",
      "Traceback (most recent call last):\n",
      "  File \"C:\\Users\\Ramon\\AppData\\Local\\Temp/ipykernel_8032/2421739868.py\", line 6, in test_correcte\n",
      "    self.assertEqual(canvi(4550,5000),2)\n",
      "TypeError: 'list' object is not callable\n",
      "\n",
      "----------------------------------------------------------------------\n",
      "Ran 1 test in 0.001s\n",
      "\n",
      "FAILED (errors=1)\n"
     ]
    },
    {
     "data": {
      "text/plain": [
       "<unittest.main.TestProgram at 0x1ca0fac0160>"
      ]
     },
     "execution_count": 50,
     "metadata": {},
     "output_type": "execute_result"
    }
   ],
   "source": [
    "import unittest\n",
    "\n",
    "class TestNotebook(unittest.TestCase):\n",
    "    \n",
    "    def test_correcte(self):\n",
    "        self.assertEqual(canvi(4550,5000),2)\n",
    "    \n",
    "        \n",
    "         \n",
    "       \n",
    "        \n",
    "        \n",
    "        \n",
    "\n",
    "unittest.main(argv=[''], verbosity=2, exit=False)\n"
   ]
  }
 ],
 "metadata": {
  "interpreter": {
   "hash": "c78e38af339321816c64228536166c44d8b7d5c589be0b944a57d14558d265d3"
  },
  "kernelspec": {
   "display_name": "Python 3.9.2 64-bit",
   "language": "python",
   "name": "python3"
  },
  "language_info": {
   "codemirror_mode": {
    "name": "ipython",
    "version": 3
   },
   "file_extension": ".py",
   "mimetype": "text/x-python",
   "name": "python",
   "nbconvert_exporter": "python",
   "pygments_lexer": "ipython3",
   "version": "3.9.2"
  },
  "orig_nbformat": 4
 },
 "nbformat": 4,
 "nbformat_minor": 2
}

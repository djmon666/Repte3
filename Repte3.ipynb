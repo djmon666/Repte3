{
 "cells": [
  {
   "cell_type": "markdown",
   "metadata": {},
   "source": [
    "<h1>REPTE 3 LA MÀQUINA DE CANVI</h1>"
   ]
  },
  {
   "cell_type": "markdown",
   "id": "7d2d78c5",
   "metadata": {},
   "source": [
    "<h3> Problema</h3>\n",
    "<p>El nostre amic vol fer un sistema de canvi en la seva botiga per fer els pagaments.<br>\n",
    "   La màquina haurà de triar el número de bitllets i monedes mínim possible, per tant sempre el de màxim valor.</p>\n",
    "<h3>Objectiu</h3>\n",
    "<p>Hem de crear una funció de nom <b>canvi()</b> on rebrà dos paràmetres: <b>preu</b> que serà el número del preu sense rebaixar, i un altre <b>pagat</b> que serà el nombre del bitllet o moneda pagat pel client.</p>\n",
    "<h3>Normes</h3>\n",
    "<p>Aquesta funció haurà de retornar una llista amb el número de bitllets i monedes per retornar amb aquest ordre:\n",
    "<ol>\n",
    "<li>Bitllets de 200€</li>\n",
    "<li>Bitllets de 100€</li>\n",
    "<li>Bitllets de 50€</li>\n",
    "<li>Bitllets de 20€</li>\n",
    "<li>Bitllets de 10€</li>\n",
    "<li>Bitllets de 5€</li>\n",
    "<li>Monedes de 2€</li>\n",
    "<li>Monedes de 1€</li>\n",
    "<li>Monedes de 50cent</li>\n",
    "<li>Monedes de 20cent</li>\n",
    "<li>Monedes de 10cent</li>\n",
    "<li>Monedes de 5cent</li>\n",
    "<li>Monedes de 2cent</li>\n",
    "<li>Monedes de 1cent</li>\n",
    "</ol>\n",
    "</p>\n",
    "<p>Per exemple: <br> canvi(45.5,50) retornarà: [0,0,0,0,0,0,2,0,1,0,0,0,0,0] </p>\n",
    "<h3>Extra:</h3>\n",
    "<p>Podries fer que amb la llista resultant, ens mostrés per pantalla els bitllets i monedes corresponents que hem de tornar de canvi?</p>\n",
    "<h3>Premi</h3>\n",
    "<p>Si aconseguiu que la màquina proposi el canvi correcte rebreu 500 punts a la plataforma + 100 per l'extra</p>"
   ]
  },
  {
   "cell_type": "code",
   "execution_count": 1,
   "id": "0fa5ae10",
   "metadata": {},
   "outputs": [],
   "source": [
    "#El teu codi aqui                                              "
   ]
  }
 ],
 "metadata": {
  "interpreter": {
   "hash": "c78e38af339321816c64228536166c44d8b7d5c589be0b944a57d14558d265d3"
  },
  "kernelspec": {
   "display_name": "Python 3.9.2 64-bit",
   "language": "python",
   "name": "python3"
  },
  "language_info": {
   "codemirror_mode": {
    "name": "ipython",
    "version": 3
   },
   "file_extension": ".py",
   "mimetype": "text/x-python",
   "name": "python",
   "nbconvert_exporter": "python",
   "pygments_lexer": "ipython3",
   "version": "3.9.2"
  },
  "orig_nbformat": 4
 },
 "nbformat": 4,
 "nbformat_minor": 2
}

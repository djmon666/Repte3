{
 "cells": [
  {
   "cell_type": "markdown",
   "id": "c09943b1",
   "metadata": {},
   "source": [
    "# REPTE 3 ELS DESCOMPTES\n"
   ]
  },
  {
   "cell_type": "markdown",
   "id": "969f6a6e",
   "metadata": {},
   "source": [
    "<h3> Problema</h3>\n",
    "<p>Quantes vegades heu anat a comprar i heu vist cartells amb diferents descomptes sobre el preu de compra?<br>\n",
    "    I moltes vegades el preu marcat no porta el descompte aplicat, i de vegades és difícil calcular el preu total</p>\n",
    "<h3>Objectiu</h3>\n",
    "<p>Hem de crear una funció de nom <b>descompte()</b> on rebrà dos paràmetres: <b>preu</b> que serà el número del preu sense rebaixar, i un altre <b>descompte</b> que serà el nombre del tant per cent corresponent al descompte a aplicar.</p>\n",
    "<h3>Normes</h3>\n",
    "<p>Aquesta funció haurà de retornar el preu final amb el descompte aplicat</p>\n",
    "\n",
    "<h3>Premi</h3>\n",
    "<p>Si supereu el test rebreu 500 punts a la plataforma</p>"
   ]
  },
  {
   "cell_type": "code",
   "execution_count": 17,
   "id": "63f2b2f3",
   "metadata": {},
   "outputs": [
    {
     "name": "stdout",
     "output_type": "stream",
     "text": [
      "48.75\n",
      "Hola\n"
     ]
    }
   ],
   "source": [
    "#Aqui el codi\n",
    "def descompte(preu,descompte):\n",
    "    return float(preu-float(preu*descompte/100))\n",
    "print (descompte(75,35))\n",
    "print(\"Hola\")"
   ]
  },
  {
   "cell_type": "code",
   "execution_count": 7,
   "id": "b86c899a-ef87-47b1-9068-025b1aee1c89",
   "metadata": {
    "scrolled": true,
    "slideshow": {
     "slide_type": "-"
    },
    "tags": [],
    "visible": false
   },
   "outputs": [
    {
     "name": "stderr",
     "output_type": "stream",
     "text": [
      "test_correcte (__main__.TestNotebook) ... ok\n",
      "test_correcte2 (__main__.TestNotebook) ... ok\n",
      "\n",
      "----------------------------------------------------------------------\n",
      "Ran 2 tests in 0.002s\n",
      "\n",
      "OK\n"
     ]
    },
    {
     "data": {
      "text/plain": [
       "<unittest.main.TestProgram at 0x1b2d4749670>"
      ]
     },
     "execution_count": 7,
     "metadata": {},
     "output_type": "execute_result"
    }
   ],
   "source": [
    "import unittest\n",
    "\n",
    "class TestNotebook(unittest.TestCase):\n",
    "    \n",
    "    def test_correcte(self):\n",
    "        self.assertEqual(descompte(100,10)==90,True)\n",
    "    def test_correcte2(self):\n",
    "        self.assertEqual(descompte(100,20)==80,True)\n",
    "    def test_correcte3(self):\n",
    "        self.assertEqual(descompte(75,35)==48.75,True)\n",
    "        \n",
    "         \n",
    "       \n",
    "        \n",
    "        \n",
    "        \n",
    "\n",
    "unittest.main(argv=[''], verbosity=2, exit=False)"
   ]
  }
 ],
 "metadata": {
  "kernelspec": {
   "display_name": "Python 3 (ipykernel)",
   "language": "python",
   "name": "python3"
  },
  "language_info": {
   "codemirror_mode": {
    "name": "ipython",
    "version": 3
   },
   "file_extension": ".py",
   "mimetype": "text/x-python",
   "name": "python",
   "nbconvert_exporter": "python",
   "pygments_lexer": "ipython3",
   "version": "3.9.2"
  }
 },
 "nbformat": 4,
 "nbformat_minor": 5
}
